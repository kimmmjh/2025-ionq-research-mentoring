{
 "cells": [
  {
   "cell_type": "code",
   "execution_count": null,
   "id": "d6ae98b5",
   "metadata": {},
   "outputs": [],
   "source": [
    "from sympy import symbols, Or, And, Not, satisfiable\n",
    "\n",
    "# (수정) 1-based 리터럴 사용 예: x1, x2, x3, x4\n",
    "clauses = [\n",
    "    (1, -2, 3),   # x1 ∨ ¬x2 ∨ x3\n",
    "    (-1, 2, 4)    # ¬x1 ∨ x2 ∨ x4\n",
    "]\n",
    "num_vars = 4\n",
    "\n",
    "def solve_3sat(clauses, num_vars):\n",
    "    # 내부 변수는 x0..x_{n-1} 그대로 유지 (encode 함수와 호환되게)\n",
    "    vars = symbols(f'x0:{num_vars}')\n",
    "    expr_clauses = []\n",
    "    for clause in clauses:\n",
    "        literals = []\n",
    "        for lit in clause:\n",
    "            idx = abs(lit) - 1\n",
    "            var = vars[idx]\n",
    "            if lit > 0:\n",
    "                literals.append(var)\n",
    "            else:\n",
    "                literals.append(Not(var))\n",
    "        expr_clauses.append(Or(*literals))\n",
    "    sat_expr = And(*expr_clauses)\n",
    "    models = satisfiable(sat_expr, all_models=True)\n",
    "    results = []\n",
    "    for m in models:\n",
    "        # 기존 encode 함수가 기대하는 형태: {'x0': True, 'x1': False, ...}\n",
    "        assignment = {f'x{i}': bool(m.get(vars[i], False)) for i in range(num_vars)}\n",
    "        results.append(assignment)\n",
    "    return results"
   ]
  },
  {
   "cell_type": "code",
   "execution_count": 17,
   "id": "49b24b76",
   "metadata": {},
   "outputs": [
    {
     "name": "stdout",
     "output_type": "stream",
     "text": [
      "{'x0': False, 'x1': True, 'x2': True, 'x3': False}\n",
      "{'x0': False, 'x1': False, 'x2': True, 'x3': False}\n",
      "{'x0': False, 'x1': True, 'x2': False, 'x3': False}\n",
      "{'x0': False, 'x1': False, 'x2': False, 'x3': False}\n",
      "{'x0': True, 'x1': True, 'x2': True, 'x3': False}\n",
      "{'x0': True, 'x1': False, 'x2': True, 'x3': False}\n",
      "{'x0': True, 'x1': True, 'x2': False, 'x3': False}\n",
      "{'x0': True, 'x1': False, 'x2': False, 'x3': False}\n",
      "{'x0': False, 'x1': True, 'x2': True, 'x3': True}\n",
      "{'x0': False, 'x1': False, 'x2': True, 'x3': True}\n",
      "{'x0': True, 'x1': True, 'x2': True, 'x3': True}\n",
      "{'x0': True, 'x1': True, 'x2': False, 'x3': True}\n"
     ]
    }
   ],
   "source": [
    "# 3-SAT 문제: (x0 ∨ ¬x1 ∨ x2) ∧ (¬x0 ∨ x1 ∨ x3)\n",
    "clauses = [\n",
    "    [0, -1, 2],\n",
    "    [-0, 1, 3]\n",
    "]\n",
    "num_vars = 4\n",
    "\n",
    "solutions = solve_3sat(clauses, num_vars)\n",
    "for sol in solutions:\n",
    "    print(sol)"
   ]
  },
  {
   "cell_type": "code",
   "execution_count": null,
   "id": "0f9e0d70",
   "metadata": {},
   "outputs": [
    {
     "name": "stdout",
     "output_type": "stream",
     "text": [
      "SparsePauliOp(['IIII', 'IIIZ', 'IIZI', 'IIZZ', 'IZII', 'IZIZ', 'ZIZI', 'ZIZZ', 'ZZII', 'ZZIZ'],\n",
      "              coeffs=[ 0.25 +0.j, -0.25 +0.j,  0.125+0.j, -0.125+0.j,  0.125+0.j, -0.125+0.j,\n",
      "  0.125+0.j, -0.125+0.j, -0.125+0.j,  0.125+0.j])\n"
     ]
    }
   ],
   "source": [
    "from itertools import product\n",
    "from qiskit.quantum_info import SparsePauliOp\n",
    "\n",
    "def build_hamiltonian_from_solutions(solutions, num_qubits, penalty=1.0):\n",
    "    solution_tuples = [tuple(bool(sol[f\"x{i}\"]) for i in range(num_qubits)) for sol in solutions]\n",
    "    satisfying_set = set(solution_tuples)\n",
    "\n",
    "    all_assignments = list(product([False, True], repeat=num_qubits))\n",
    "\n",
    "    paulis = []\n",
    "    coeffs = []\n",
    "\n",
    "    for a in all_assignments:\n",
    "        if a in satisfying_set:\n",
    "            continue \n",
    "\n",
    "        for mask in product([0,1], repeat=num_qubits):\n",
    "            # mask는 어떤 위치에 Z를 넣을지 결정\n",
    "            pauli_str = \"\"\n",
    "            phase = 1\n",
    "            for j in range(num_qubits):\n",
    "                if mask[j] == 1:\n",
    "                    pauli_str += \"Z\"\n",
    "                    if a[j]:\n",
    "                        phase *= -1\n",
    "                else:\n",
    "                    pauli_str += \"I\"\n",
    "            coeff = penalty * phase / (2**num_qubits)\n",
    "            paulis.append(pauli_str)\n",
    "            coeffs.append(coeff)\n",
    "\n",
    "    H = SparsePauliOp(paulis, coeffs)\n",
    "    return H.simplify()\n",
    "\n",
    "solutions = [\n",
    "    {'x0': False, 'x1': True, 'x2': True, 'x3': False},\n",
    "    {'x0': False, 'x1': False, 'x2': True, 'x3': False},\n",
    "    {'x0': False, 'x1': True, 'x2': False, 'x3': False},\n",
    "    {'x0': False, 'x1': False, 'x2': False, 'x3': False},\n",
    "    {'x0': True, 'x1': True, 'x2': True, 'x3': False},\n",
    "    {'x0': True, 'x1': False, 'x2': True, 'x3': False},\n",
    "    {'x0': True, 'x1': True, 'x2': False, 'x3': False},\n",
    "    {'x0': True, 'x1': False, 'x2': False, 'x3': False},\n",
    "    {'x0': False, 'x1': True, 'x2': True, 'x3': True},\n",
    "    {'x0': False, 'x1': False, 'x2': True, 'x3': True},\n",
    "    {'x0': True, 'x1': True, 'x2': True, 'x3': True},\n",
    "    {'x0': True, 'x1': True, 'x2': False, 'x3': True}\n",
    "]\n",
    "\n",
    "H = build_hamiltonian_from_solutions(solutions, num_qubits=4, penalty=1.0)\n",
    "print(H)\n"
   ]
  },
  {
   "cell_type": "code",
   "execution_count": 23,
   "id": "0e4ac237",
   "metadata": {},
   "outputs": [
    {
     "name": "stdout",
     "output_type": "stream",
     "text": [
      "0.250000 * I\n",
      "-0.250000 * Z3\n",
      "0.125000 * Z2\n",
      "-0.125000 * Z2*Z3\n",
      "0.125000 * Z1\n",
      "-0.125000 * Z1*Z3\n",
      "0.125000 * Z0*Z2\n",
      "-0.125000 * Z0*Z2*Z3\n",
      "-0.125000 * Z0*Z1\n",
      "0.125000 * Z0*Z1*Z3\n"
     ]
    }
   ],
   "source": [
    "def hamiltonian_to_string_terms(H):\n",
    "    terms = []\n",
    "    for pauli, coeff in zip(H.paulis, H.coeffs):\n",
    "        label = pauli.to_label()\n",
    "        ops = []\n",
    "        for i, p in enumerate(label):\n",
    "            if p == \"I\":\n",
    "                continue\n",
    "            else:\n",
    "                ops.append(f\"{p}{i}\")\n",
    "        if ops:\n",
    "            term_str = \"*\".join(ops)\n",
    "        else:\n",
    "            term_str = \"I\" \n",
    "        terms.append(f\"{coeff.real:.6f} * {term_str}\")\n",
    "    return terms\n",
    "\n",
    "\n",
    "terms = hamiltonian_to_string_terms(H)\n",
    "for t in terms:\n",
    "    print(t)"
   ]
  }
 ],
 "metadata": {
  "kernelspec": {
   "display_name": "qiskit_env",
   "language": "python",
   "name": "python3"
  },
  "language_info": {
   "codemirror_mode": {
    "name": "ipython",
    "version": 3
   },
   "file_extension": ".py",
   "mimetype": "text/x-python",
   "name": "python",
   "nbconvert_exporter": "python",
   "pygments_lexer": "ipython3",
   "version": "3.12.11"
  }
 },
 "nbformat": 4,
 "nbformat_minor": 5
}
